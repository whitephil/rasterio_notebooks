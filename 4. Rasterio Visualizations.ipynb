{
 "cells": [
  {
   "cell_type": "markdown",
   "id": "5d5647e0",
   "metadata": {},
   "source": [
    "# Rasterio Visualizations  \n",
    "\n",
    "Now we'll do a brief overview of visualizations--although I will admit that integrating these techniques with Matplotlib can be a very deep dive... this is just a primer.  \n",
    "\n",
    "Imports:"
   ]
  },
  {
   "cell_type": "code",
   "execution_count": null,
   "id": "82f22490",
   "metadata": {},
   "outputs": [],
   "source": [
    "import rasterio as rio\n",
    "from rasterio.plot import show\n",
    "from matplotlib import pyplot as plt\n",
    "from rasterio.plot import adjust_band\n",
    "import numpy as np\n",
    "import os"
   ]
  },
  {
   "cell_type": "markdown",
   "id": "87d97a68",
   "metadata": {},
   "source": [
    "Open the Flatirons DEM raster:\n",
    "```python\n",
    "src = rio.open('data/Flatirons_DEM_1m.tif')\n",
    "```"
   ]
  },
  {
   "cell_type": "code",
   "execution_count": null,
   "id": "67781e92",
   "metadata": {},
   "outputs": [],
   "source": []
  },
  {
   "cell_type": "markdown",
   "id": "a7c758b4",
   "metadata": {},
   "source": [
    "The matplotlib way... What we're doing here is reading it as an array and having matplotlib plot the array as an image:\n",
    "```python\n",
    "plt.imshow(src.read(1))\n",
    "```"
   ]
  },
  {
   "cell_type": "code",
   "execution_count": null,
   "id": "7d7e2b19",
   "metadata": {},
   "outputs": [],
   "source": []
  },
  {
   "cell_type": "markdown",
   "id": "e77ff7d4",
   "metadata": {},
   "source": [
    "OR, as we've used already, the built in Rasterio method:\n",
    "```python\n",
    "show(src)\n",
    "```"
   ]
  },
  {
   "cell_type": "code",
   "execution_count": null,
   "id": "5da7d6d0",
   "metadata": {},
   "outputs": [],
   "source": []
  },
  {
   "cell_type": "markdown",
   "id": "daaadee2",
   "metadata": {},
   "source": [
    "Note that this one is in the proper units...   \n",
    "\n",
    "If you use `show()` to plot the single band, you lose the units...  \n",
    "```python\n",
    "show(src.read(1))\n",
    "```"
   ]
  },
  {
   "cell_type": "code",
   "execution_count": null,
   "id": "8fd164ea",
   "metadata": {},
   "outputs": [],
   "source": []
  },
  {
   "cell_type": "markdown",
   "id": "e690601b",
   "metadata": {},
   "source": [
    "But, you can provide the transform and it will provide the proper units... this may seem pointless, but it can be useful in some situations.\n",
    "```python\n",
    "show(src.read(1), transform = src.transform)\n",
    "```"
   ]
  },
  {
   "cell_type": "code",
   "execution_count": null,
   "id": "863f5e4c",
   "metadata": {},
   "outputs": [],
   "source": []
  },
  {
   "cell_type": "markdown",
   "id": "e92fc64e",
   "metadata": {},
   "source": [
    "#### Colormaps!\n",
    "Let's make it good ol' \"DEM gray\"...\n",
    "```python\n",
    "show(src, cmap = 'gray')\n",
    "```"
   ]
  },
  {
   "cell_type": "code",
   "execution_count": null,
   "id": "1a70fdae",
   "metadata": {},
   "outputs": [],
   "source": []
  },
  {
   "cell_type": "markdown",
   "id": "c37ae5f8",
   "metadata": {},
   "source": [
    "Here are Matplotlib's colormaps: https://matplotlib.org/stable/tutorials/colors/colormaps.html \n",
    "\n",
    "Let's have some fun with this:\n",
    "```python\n",
    "show(src, cmap = 'Reds')\n",
    "```"
   ]
  },
  {
   "cell_type": "code",
   "execution_count": null,
   "id": "02195ba6",
   "metadata": {},
   "outputs": [],
   "source": []
  },
  {
   "cell_type": "markdown",
   "id": "fcfe33e0",
   "metadata": {},
   "source": [
    "### Size  \n",
    "\n",
    "Tired of looking at these tiny plots? We can use the Matplotlib conventions...  \n",
    "```python\n",
    "fig, ax = plt.subplots(figsize=(12,12))\n",
    "show(src, cmap = 'gray', ax=ax)\n",
    "```"
   ]
  },
  {
   "cell_type": "code",
   "execution_count": null,
   "id": "eb5e386c",
   "metadata": {},
   "outputs": [],
   "source": []
  },
  {
   "cell_type": "markdown",
   "id": "20a96158",
   "metadata": {},
   "source": [
    "It's quite easy to create contours from a DEM:\n",
    "```python\n",
    "fig, ax = plt.subplots(figsize=(12,12))\n",
    "show(src, contour=True, ax=ax)\n",
    "```"
   ]
  },
  {
   "cell_type": "code",
   "execution_count": null,
   "id": "31f3ee8c",
   "metadata": {},
   "outputs": [],
   "source": []
  },
  {
   "cell_type": "markdown",
   "id": "334914ba",
   "metadata": {},
   "source": [
    "**Or** do both Contours and a DEM together:\n",
    "```python\n",
    "fig, ax = plt.subplots(figsize=(12,12))\n",
    "show(src, cmap = 'gray', ax=ax)\n",
    "show(src, contour=True, ax=ax)\n",
    "```"
   ]
  },
  {
   "cell_type": "code",
   "execution_count": null,
   "id": "94bc2dab",
   "metadata": {},
   "outputs": [],
   "source": []
  },
  {
   "cell_type": "markdown",
   "id": "d0e2d5cb",
   "metadata": {},
   "source": [
    "Save some memory... \n",
    "```python\n",
    "del src, fig, ax\n",
    "```"
   ]
  },
  {
   "cell_type": "code",
   "execution_count": null,
   "id": "2f41edd3",
   "metadata": {},
   "outputs": [],
   "source": []
  },
  {
   "cell_type": "markdown",
   "id": "ef7fda51",
   "metadata": {},
   "source": [
    "#### Okay, let's work on some multiband imagery... \n",
    "\n",
    "We'll use our cropped NAIP image of campus:\n",
    "```python\n",
    "naip = rio.open('NAIP_swQuad.tif')\n",
    "```"
   ]
  },
  {
   "cell_type": "code",
   "execution_count": null,
   "id": "c2cbfa67",
   "metadata": {},
   "outputs": [],
   "source": []
  },
  {
   "cell_type": "markdown",
   "id": "90bc2b0c",
   "metadata": {},
   "source": [
    "```python\n",
    "show(naip)\n",
    "```"
   ]
  },
  {
   "cell_type": "code",
   "execution_count": null,
   "id": "d519c8f0",
   "metadata": {},
   "outputs": [],
   "source": []
  },
  {
   "cell_type": "markdown",
   "id": "6be70719",
   "metadata": {},
   "source": [
    "You can also specify particular bands:\n",
    "```python\n",
    "show((naip,2))\n",
    "```"
   ]
  },
  {
   "cell_type": "code",
   "execution_count": null,
   "id": "9399ae06",
   "metadata": {},
   "outputs": [],
   "source": []
  },
  {
   "cell_type": "markdown",
   "id": "1c69f90d",
   "metadata": {},
   "source": [
    "Near infrared:\n",
    "```python\n",
    "show((naip,4))\n",
    "```"
   ]
  },
  {
   "cell_type": "code",
   "execution_count": null,
   "id": "3cea86e0",
   "metadata": {},
   "outputs": [],
   "source": []
  },
  {
   "cell_type": "markdown",
   "id": "408146dd",
   "metadata": {},
   "source": [
    "Let's work on displaying the true color version...  \n",
    "\n",
    "To display a true color RGB image, you need to normalize the bands....    \n",
    "\n",
    "Start by reading the image into a Numpy array. This will create an n-dimensional array--essentially the four different bands stacked.\n",
    "```python\n",
    "image = naip.read()\n",
    "```"
   ]
  },
  {
   "cell_type": "code",
   "execution_count": null,
   "id": "0ca3ba6c",
   "metadata": {},
   "outputs": [],
   "source": []
  },
  {
   "cell_type": "markdown",
   "id": "6e579c24",
   "metadata": {},
   "source": [
    "Take a quick look... \n",
    " \n",
    "```python\n",
    "show(image)\n",
    "```"
   ]
  },
  {
   "cell_type": "code",
   "execution_count": null,
   "id": "c2649bc3",
   "metadata": {},
   "outputs": [],
   "source": []
  },
  {
   "cell_type": "markdown",
   "id": "05f71491",
   "metadata": {},
   "source": [
    "But, to create the true color visualization, we really just need the rgb bands--that is, the first 3 bands. So we'll use Numpy to grab just those three:\n",
    "```python\n",
    "rgb = image[0:3]\n",
    "```"
   ]
  },
  {
   "cell_type": "code",
   "execution_count": null,
   "id": "560f86fd",
   "metadata": {},
   "outputs": [],
   "source": []
  },
  {
   "cell_type": "markdown",
   "id": "24712bd7",
   "metadata": {},
   "source": [
    "```python\n",
    "show(rgb)\n",
    "```"
   ]
  },
  {
   "cell_type": "code",
   "execution_count": null,
   "id": "c0ce97bb",
   "metadata": {},
   "outputs": [],
   "source": []
  },
  {
   "cell_type": "markdown",
   "id": "6469eab8",
   "metadata": {},
   "source": [
    "Now, finally we can plot our rgb image properly... \n",
    "\n",
    "Might crush memory!!!\n",
    "\n",
    "```python\n",
    "fig, ax = plt.subplots(figsize=(12,12))\n",
    "show(rgb, ax=ax, title = 'Aerial Image of CU Campus')\n",
    "```"
   ]
  },
  {
   "cell_type": "code",
   "execution_count": null,
   "id": "7a2fc7a5",
   "metadata": {},
   "outputs": [],
   "source": []
  },
  {
   "cell_type": "markdown",
   "id": "981fae27",
   "metadata": {},
   "source": [
    "### Sweet!"
   ]
  }
 ],
 "metadata": {
  "kernelspec": {
   "display_name": "Python 3 (ipykernel)",
   "language": "python",
   "name": "python3"
  },
  "language_info": {
   "codemirror_mode": {
    "name": "ipython",
    "version": 3
   },
   "file_extension": ".py",
   "mimetype": "text/x-python",
   "name": "python",
   "nbconvert_exporter": "python",
   "pygments_lexer": "ipython3",
   "version": "3.7.4"
  }
 },
 "nbformat": 4,
 "nbformat_minor": 5
}
