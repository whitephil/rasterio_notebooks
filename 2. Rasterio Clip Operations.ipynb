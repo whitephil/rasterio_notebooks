{
 "cells": [
  {
   "cell_type": "markdown",
   "id": "da2cd53a",
   "metadata": {},
   "source": [
    "## 2. Masking AKA Clipping with Rasterio\n",
    "\n",
    "Okay--I admit this is slightly complicated, but doing GIS in the wild can be that way sometimes!  \n",
    "\n",
    "There's a bunch of ways you may want to clip something, so consider this a primer on what it really takes to clip a raster.  \n",
    "Essentially, you need:\n",
    "1. An input image\n",
    "2. Something you want to clip it with, in this case, we'll use geometries from a shapefile\n",
    "3. You need the geometry of the clipping object as a [geojson-like dict](https://rasterio.readthedocs.io/en/stable/api/rasterio.mask.html)\n",
    "4. And of course you need all of the critical descriptive information to go along with these such as the CRS, the transformation, the width, the height, the color profile...  \n",
    "\n",
    "Let's do it!"
   ]
  },
  {
   "cell_type": "code",
   "execution_count": 1,
   "id": "87b4b2b9",
   "metadata": {},
   "outputs": [],
   "source": [
    "import rasterio as rio\n",
    "from rasterio.plot import show\n",
    "from rasterio.mask import mask #this is the masking aka clip module\n",
    "import matplotlib.pyplot as plt\n",
    "import geopandas as gpd #to read the input shapefile\n",
    "import os"
   ]
  },
  {
   "cell_type": "markdown",
   "id": "11b0b9a5",
   "metadata": {},
   "source": [
    "First, let's read in the image:\n",
    "```python\n",
    "src = rio.open('data/NAIP_Campus.tif')\n",
    "```"
   ]
  },
  {
   "cell_type": "code",
   "execution_count": null,
   "id": "8bebae0f",
   "metadata": {},
   "outputs": [],
   "source": []
  },
  {
   "cell_type": "markdown",
   "id": "90149140",
   "metadata": {},
   "source": [
    "Let's take a peek:\n",
    "```python\n",
    "show(src.read(1))\n",
    "```"
   ]
  },
  {
   "cell_type": "code",
   "execution_count": null,
   "id": "d89e42a7",
   "metadata": {},
   "outputs": [],
   "source": []
  },
  {
   "cell_type": "markdown",
   "id": "3e601db0",
   "metadata": {},
   "source": [
    "Let's clip so that we're only working with the quad area...\n",
    "\n",
    "Read in the campus shapefile:\n",
    "```python\n",
    "shape = gpd.read_file('data/UCB_MainCampus_Boundaries.shp')\n",
    "```"
   ]
  },
  {
   "cell_type": "code",
   "execution_count": null,
   "id": "4a7d28d2",
   "metadata": {},
   "outputs": [],
   "source": []
  },
  {
   "cell_type": "markdown",
   "id": "e9f6f5ba",
   "metadata": {},
   "source": [
    "Let's take a look:\n",
    "```python\n",
    "shape.plot(figsize = (12,12))\n",
    "```"
   ]
  },
  {
   "cell_type": "code",
   "execution_count": null,
   "id": "49e5e797",
   "metadata": {},
   "outputs": [],
   "source": []
  },
  {
   "cell_type": "markdown",
   "id": "a6168fe0",
   "metadata": {},
   "source": [
    "Okay, but if we're going to clip with this, it needs to be in the same CRS as the image, this is easy to change using geopandas:\n",
    "```python\n",
    "src.crs\n",
    "```"
   ]
  },
  {
   "cell_type": "code",
   "execution_count": null,
   "id": "8d40c440",
   "metadata": {},
   "outputs": [],
   "source": []
  },
  {
   "cell_type": "markdown",
   "id": "00e394d4",
   "metadata": {},
   "source": [
    "Change it to EPSG 26913\n",
    "```python\n",
    "shape = shape.to_crs(26913)\n",
    "```"
   ]
  },
  {
   "cell_type": "code",
   "execution_count": null,
   "id": "15bef73a",
   "metadata": {},
   "outputs": [],
   "source": []
  },
  {
   "cell_type": "markdown",
   "id": "dbe99c67",
   "metadata": {},
   "source": [
    "Now, let's get the geometry of the southwest part of main campus:\n",
    "\n",
    "\n",
    "We'll use GeoPandas to access the geometry of that particular feature. \n",
    "```python\n",
    "swQuad = shape.geometry[22]\n",
    "```"
   ]
  },
  {
   "cell_type": "code",
   "execution_count": null,
   "id": "aad2855c",
   "metadata": {},
   "outputs": [],
   "source": []
  },
  {
   "cell_type": "markdown",
   "id": "4cb5a588",
   "metadata": {},
   "source": [
    "### Okay... \n",
    "\n",
    "From the Rasterio docs: The values must be a GeoJSON-like dict or an object that implements the Python geo interface protocol (such as a [Shapely](https://shapely.readthedocs.io/en/stable/geometry.html) Polygon). \n",
    "\n",
    "Fortunately, that's what we have:\n",
    "```python\n",
    "print(swQuad)\n",
    "```"
   ]
  },
  {
   "cell_type": "code",
   "execution_count": null,
   "id": "839bcd3b",
   "metadata": {},
   "outputs": [],
   "source": []
  },
  {
   "cell_type": "markdown",
   "id": "943a50a2",
   "metadata": {},
   "source": [
    "Perfect!  \n",
    "\n",
    "Now finally, we can run the mask function to get the clipped image. mask() will return two things: the image, and it's affine transformation. You must set crop to True--without it, the image will be the same size but with no values beyond our clip area. Setting crop to True gets rid of those areas:\n",
    "```python\n",
    "out_img, out_transform = mask(src, [swQuad], crop=True)\n",
    "```\n",
    "** One other caveat: wrap the swQuad variable in square brackets so rasterio knows to treat it like an iterable."
   ]
  },
  {
   "cell_type": "code",
   "execution_count": null,
   "id": "77422800",
   "metadata": {},
   "outputs": [],
   "source": []
  },
  {
   "cell_type": "markdown",
   "id": "525792c2",
   "metadata": {},
   "source": [
    "Let's take a look...\n",
    "```python\n",
    "show(out_img)\n",
    "```"
   ]
  },
  {
   "cell_type": "code",
   "execution_count": null,
   "id": "deee4d54",
   "metadata": {},
   "outputs": [],
   "source": []
  },
  {
   "cell_type": "markdown",
   "id": "164dd28c",
   "metadata": {},
   "source": [
    "### Cool! \n",
    "\n",
    "### ...but...\n",
    "\n",
    "Okay, maybe you don't want it clipped to the exact geometry... maybe you would rather have it by the extent of the geometry?\n",
    "\n",
    "Okay, let's do it!\n",
    "\n",
    "What we'll need is the bounding box geometry of our swQuad shape. We can use geopandas' envelope property:\n",
    "```python\n",
    "envelope = swQuad.envelope\n",
    "envelope\n",
    "```"
   ]
  },
  {
   "cell_type": "code",
   "execution_count": null,
   "id": "26581e04",
   "metadata": {},
   "outputs": [],
   "source": []
  },
  {
   "cell_type": "markdown",
   "id": "b4a06f01",
   "metadata": {},
   "source": [
    "print it..."
   ]
  },
  {
   "cell_type": "code",
   "execution_count": null,
   "id": "ad208a7f",
   "metadata": {},
   "outputs": [],
   "source": []
  },
  {
   "cell_type": "markdown",
   "id": "ecd7fe2c",
   "metadata": {},
   "source": [
    "#### Siiiick!\n",
    "\n",
    "Now, let's do it again, this time with the envelope as the geometry object:\n",
    "```python\n",
    "out_img, out_transform = mask(src, [envelope], crop=True)\n",
    "```"
   ]
  },
  {
   "cell_type": "code",
   "execution_count": null,
   "id": "4f8e662c",
   "metadata": {},
   "outputs": [],
   "source": []
  },
  {
   "cell_type": "markdown",
   "id": "6942fbd4",
   "metadata": {},
   "source": [
    "Check it out:\n",
    "```python\n",
    "show(out_img)\n",
    "```"
   ]
  },
  {
   "cell_type": "code",
   "execution_count": null,
   "id": "85bf678f",
   "metadata": {},
   "outputs": [],
   "source": []
  },
  {
   "cell_type": "markdown",
   "id": "1ddb9054",
   "metadata": {},
   "source": [
    "### Awesome. If the color looks funny, we'll sort that out when we save it... "
   ]
  },
  {
   "cell_type": "markdown",
   "id": "cfa3b6f7",
   "metadata": {},
   "source": [
    "Now, let's get the original profile\n",
    "```python\n",
    "src.profile\n",
    "```"
   ]
  },
  {
   "cell_type": "code",
   "execution_count": null,
   "id": "4f468787",
   "metadata": {},
   "outputs": [],
   "source": []
  },
  {
   "cell_type": "markdown",
   "id": "79201bd2",
   "metadata": {},
   "source": [
    "Copy it to a variable:\n",
    "```python\n",
    "profile = src.profile.copy()\n",
    "```\n",
    "(Note, this is the same as the kwargs variable we used in the last notebook)"
   ]
  },
  {
   "cell_type": "code",
   "execution_count": null,
   "id": "6696a478",
   "metadata": {},
   "outputs": [],
   "source": []
  },
  {
   "cell_type": "markdown",
   "id": "4821b986",
   "metadata": {},
   "source": [
    "Grab the height and the width of the output image:\n",
    "```python\n",
    "height = out_img.shape[1]\n",
    "width = out_img.shape[2]\n",
    "```"
   ]
  },
  {
   "cell_type": "code",
   "execution_count": null,
   "id": "7b163a55",
   "metadata": {},
   "outputs": [],
   "source": []
  },
  {
   "cell_type": "markdown",
   "id": "9e5fe93b",
   "metadata": {},
   "source": [
    "Update the profile. Since we have a new transform, a new width & height, we need to use the `.update` method to take the old profile and update certain elements:\n",
    "```python\n",
    "profile.update(transform = out_transform, \n",
    "               width = width, \n",
    "               height = height, \n",
    "               photometric = 'rgb', \n",
    "               alpha = 'no')\n",
    "```\n",
    "(more on photometric & alpha in the next notebook)"
   ]
  },
  {
   "cell_type": "code",
   "execution_count": null,
   "id": "4fc00a59",
   "metadata": {},
   "outputs": [],
   "source": []
  },
  {
   "cell_type": "markdown",
   "id": "131aa300",
   "metadata": {},
   "source": [
    "Open a new empty dataset:\n",
    "```python\n",
    "new = rio.open('NAIP_swQuad.tif', 'w', **profile)\n",
    "```"
   ]
  },
  {
   "cell_type": "code",
   "execution_count": null,
   "id": "dce35a8b",
   "metadata": {},
   "outputs": [],
   "source": []
  },
  {
   "cell_type": "markdown",
   "id": "05d86c5e",
   "metadata": {},
   "source": [
    "Write it to disc:\n",
    "```python\n",
    "new.write(out_img)\n",
    "```"
   ]
  },
  {
   "cell_type": "code",
   "execution_count": null,
   "id": "53e896f2",
   "metadata": {},
   "outputs": [],
   "source": []
  },
  {
   "cell_type": "markdown",
   "id": "0eb3b4f8",
   "metadata": {},
   "source": [
    "Close it...\n",
    "```python\n",
    "new.close()\n",
    "```"
   ]
  },
  {
   "cell_type": "code",
   "execution_count": null,
   "id": "3acdc2a0",
   "metadata": {},
   "outputs": [],
   "source": []
  },
  {
   "cell_type": "markdown",
   "id": "0e0ae5d6",
   "metadata": {},
   "source": [
    "#### Done!  "
   ]
  }
 ],
 "metadata": {
  "kernelspec": {
   "display_name": "Python 3 (ipykernel)",
   "language": "python",
   "name": "python3"
  },
  "language_info": {
   "codemirror_mode": {
    "name": "ipython",
    "version": 3
   },
   "file_extension": ".py",
   "mimetype": "text/x-python",
   "name": "python",
   "nbconvert_exporter": "python",
   "pygments_lexer": "ipython3",
   "version": "3.7.4"
  }
 },
 "nbformat": 4,
 "nbformat_minor": 5
}
