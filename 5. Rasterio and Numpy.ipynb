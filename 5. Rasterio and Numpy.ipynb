{
 "cells": [
  {
   "cell_type": "markdown",
   "id": "c48eccd7",
   "metadata": {},
   "source": [
    "# Rasterio & Numpy & Scipy\n",
    "\n",
    "Some basic analysis techniques...  \n",
    "\n",
    "Numpy and Scipy are both super useful for analyzing raster data once you're data is read as an array. Typically, a workflow would start with reading data with Rasterio, analyzing it with Numpy, Scipy, or something else, then writing it to an output file with Rasterio.  \n",
    "\n",
    "**This is not a Numpy OR Scipy workshop!** We're just hitting some basics here... I'm just giving you some code so you get the idea and maybe whet your appetite.\n",
    "\n",
    "Imports:"
   ]
  },
  {
   "cell_type": "code",
   "execution_count": null,
   "id": "236132d8",
   "metadata": {},
   "outputs": [],
   "source": [
    "import rasterio as rio\n",
    "from rasterio.plot import show\n",
    "from matplotlib import pyplot as plt\n",
    "import numpy as np\n",
    "import scipy.ndimage\n",
    "import os"
   ]
  },
  {
   "cell_type": "markdown",
   "id": "518d7855",
   "metadata": {},
   "source": [
    "### Slope  \n",
    "\n",
    "We'll start by opening our DEM and reading it into an array:\n",
    "```python\n",
    "dem = rio.open('data/Flatirons_DEM_1m.tif')\n",
    "demArray = dem.read(1)\n",
    "```"
   ]
  },
  {
   "cell_type": "code",
   "execution_count": null,
   "id": "ed6c0dad",
   "metadata": {},
   "outputs": [],
   "source": []
  },
  {
   "cell_type": "markdown",
   "id": "631535c1",
   "metadata": {},
   "source": [
    "Take a peek at the meta:\n",
    "```python\n",
    "dem.meta\n",
    "```"
   ]
  },
  {
   "cell_type": "code",
   "execution_count": null,
   "id": "6f04a0b6",
   "metadata": {},
   "outputs": [],
   "source": []
  },
  {
   "cell_type": "markdown",
   "id": "b0cb0459",
   "metadata": {},
   "source": [
    "You'll need cell size to calculate slope...  \n",
    "\n",
    "Remember that cell size is part of the affine transformation. (cell width, x origin, x origin coordinate, y origin, cell height, y origin coordinate)\n",
    "\n",
    "```python\n",
    "dem.transform\n",
    "```"
   ]
  },
  {
   "cell_type": "code",
   "execution_count": null,
   "id": "b941baa3",
   "metadata": {},
   "outputs": [],
   "source": []
  },
  {
   "cell_type": "markdown",
   "id": "ad718f80",
   "metadata": {},
   "source": [
    "We can use python's `assert` statement to check to see if the width and height are the same (or, well, close enough)...  \n",
    "\n",
    "```python\n",
    "assert (-dem.transform[4]-dem.transform[0]) < 0.00001\n",
    "```\n",
    "\n",
    "This would throw an error if the statement is not true."
   ]
  },
  {
   "cell_type": "code",
   "execution_count": null,
   "id": "f0b22676",
   "metadata": {},
   "outputs": [],
   "source": []
  },
  {
   "cell_type": "markdown",
   "id": "3fee7aa7",
   "metadata": {},
   "source": [
    "Okay cool. They're functionally the same, so we'll just use the cell width as the cell size, which is approximately 1m:  \n",
    "```python\n",
    "cellSize = dem.transform[0]\n",
    "```"
   ]
  },
  {
   "cell_type": "code",
   "execution_count": null,
   "id": "36dbb91d",
   "metadata": {},
   "outputs": [],
   "source": []
  },
  {
   "cell_type": "markdown",
   "id": "88ea38a2",
   "metadata": {},
   "source": [
    "Now let's read our dem into an array:\n",
    "```python\n",
    "demArray = dem.read(1)\n",
    "```"
   ]
  },
  {
   "cell_type": "code",
   "execution_count": null,
   "id": "25b79602",
   "metadata": {},
   "outputs": [],
   "source": []
  },
  {
   "cell_type": "markdown",
   "id": "d9cbce1c",
   "metadata": {},
   "source": [
    "To calculate slope, first we'll need rise and run values for each cell. Fortunately, np.gradient can do this for us... Here are two explanations of how gradient works:  \n",
    "https://numpy.org/doc/stable/reference/generated/numpy.gradient.html\n",
    "https://stackoverflow.com/questions/24633618/what-does-numpy-gradient-do\n",
    "\n",
    "\n",
    "```python\n",
    "rise, run = np.gradient(demArray, cellSize)\n",
    "```"
   ]
  },
  {
   "cell_type": "code",
   "execution_count": null,
   "id": "26a5c4ad",
   "metadata": {},
   "outputs": [],
   "source": []
  },
  {
   "cell_type": "markdown",
   "id": "9d977fd9",
   "metadata": {},
   "source": [
    "Now that you have change in elevation and change in linear distance, you have two parts of the Pythagorean Theorem... \n",
    "\n",
    "Time for good old Pythagorus:\n",
    "\n",
    "```python\n",
    "slope = np.sqrt(rise ** 2 + run**2)\n",
    "```"
   ]
  },
  {
   "cell_type": "code",
   "execution_count": null,
   "id": "162b01b7",
   "metadata": {},
   "outputs": [],
   "source": []
  },
  {
   "cell_type": "markdown",
   "id": "26a29e25",
   "metadata": {},
   "source": [
    "You can use np.arctan and np.degrees to get slope in degrees: \n",
    "```python\n",
    "slope_deg = np.degrees(np.arctan(slope)).astype('int32')\n",
    "```"
   ]
  },
  {
   "cell_type": "code",
   "execution_count": null,
   "id": "7cb27da4",
   "metadata": {},
   "outputs": [],
   "source": []
  },
  {
   "cell_type": "markdown",
   "id": "685eba31",
   "metadata": {},
   "source": [
    "Let's take a look:"
   ]
  },
  {
   "cell_type": "code",
   "execution_count": null,
   "id": "bf7722bc",
   "metadata": {},
   "outputs": [],
   "source": []
  },
  {
   "cell_type": "markdown",
   "id": "037b48f6",
   "metadata": {},
   "source": [
    "Get the profile: \n",
    "```python\n",
    "profile = dem.profile\n",
    "```"
   ]
  },
  {
   "cell_type": "code",
   "execution_count": null,
   "id": "9cc30121",
   "metadata": {},
   "outputs": [],
   "source": [
    "profile = dem.profile"
   ]
  },
  {
   "cell_type": "markdown",
   "id": "abbc980e",
   "metadata": {},
   "source": [
    "Write it:"
   ]
  },
  {
   "cell_type": "code",
   "execution_count": null,
   "id": "1af5fcfc",
   "metadata": {},
   "outputs": [],
   "source": [
    "with rio.open('slope.tif', 'w', **profile) as slope_out:\n",
    "    slope_out.write(slope_deg,1)"
   ]
  },
  {
   "cell_type": "markdown",
   "id": "2ab78987",
   "metadata": {},
   "source": [
    "Save a little memory:"
   ]
  },
  {
   "cell_type": "code",
   "execution_count": null,
   "id": "0b93c4f0",
   "metadata": {},
   "outputs": [],
   "source": [
    "del dem, demArray, slope, slope_deg, rise, run, cellSize"
   ]
  },
  {
   "cell_type": "markdown",
   "id": "68dadf5d",
   "metadata": {},
   "source": [
    "We did not account for the edges of the image, but you get my drift... You can ask me later about that...   \n",
    "\n",
    "#### NDVI  \n",
    "That is Normalized Difference Vegetation Index, a measure of live green vegetation. You calculate NDVI by dividing the difference of the near infrared band and the red band by the sum of the near infrared band and the red band...  or:\n",
    "NDVI = (NIR-R)/(NIR+R)\n",
    "\n",
    "In Landsat 8, the red band is band 4, and the NIR band is band 5.\n",
    "\n",
    "\n",
    "[Landsat 8 Bands](https://gisgeography.com/landsat-8-bands-combinations/)\n",
    "\n",
    "Start by opening the red band and NIR band. This covers the Steamboat, CO vacinity:\n",
    "```python\n",
    "img_b4 = rio.open('data/LC08_Steamboat_B4.tif')\n",
    "img_b5 = rio.open('data/LC08_Steamboat_B5.tif')\n",
    "```"
   ]
  },
  {
   "cell_type": "code",
   "execution_count": null,
   "id": "360bbb45",
   "metadata": {},
   "outputs": [],
   "source": [
    "img_b4 = rio.open('data/LC08_Steamboat_B4.tif')\n",
    "img_b5 = rio.open('data/LC08_Steamboat_B5.tif')"
   ]
  },
  {
   "cell_type": "markdown",
   "id": "b6863f38",
   "metadata": {},
   "source": [
    "Take a peek at band 4:"
   ]
  },
  {
   "cell_type": "code",
   "execution_count": null,
   "id": "1a3c73e4",
   "metadata": {},
   "outputs": [],
   "source": [
    "fig, ax = plt.subplots(1, figsize=(12,12))\n",
    "show(img_b4, transform = img_b4.transform, ax=ax)"
   ]
  },
  {
   "cell_type": "markdown",
   "id": "25167d2f",
   "metadata": {},
   "source": [
    "Read them as arrays:"
   ]
  },
  {
   "cell_type": "code",
   "execution_count": null,
   "id": "5eddf2d7",
   "metadata": {},
   "outputs": [],
   "source": [
    "b4 = img_b4.read(1)\n",
    "b5 = img_b5.read(1)"
   ]
  },
  {
   "cell_type": "markdown",
   "id": "25309e92",
   "metadata": {},
   "source": [
    "Make sure the cell is square:"
   ]
  },
  {
   "cell_type": "code",
   "execution_count": null,
   "id": "5c1643a1",
   "metadata": {},
   "outputs": [],
   "source": [
    "assert(-img_b4.transform[4]-img_b4.transform[0]) < 0.0001"
   ]
  },
  {
   "cell_type": "markdown",
   "id": "d904967f",
   "metadata": {},
   "source": [
    "It is... so grab the cell size as we did before:"
   ]
  },
  {
   "cell_type": "code",
   "execution_count": null,
   "id": "fe2cb802",
   "metadata": {},
   "outputs": [],
   "source": [
    "cellSize = img_b4.transform[0]\n",
    "print(cellSize)"
   ]
  },
  {
   "cell_type": "markdown",
   "id": "b54cdf12",
   "metadata": {},
   "source": [
    "NDVI is an index, meaning, the values exist between 0 and 1. We need to make sure the data hold decimal values, or in other words, we need to make sure they are float dtype. The data come as integer gype, so we must convert:"
   ]
  },
  {
   "cell_type": "code",
   "execution_count": null,
   "id": "a2f13d24",
   "metadata": {},
   "outputs": [],
   "source": [
    "b5 = b5.astype(float).copy()\n",
    "b4 = b4.astype(float).copy()"
   ]
  },
  {
   "cell_type": "markdown",
   "id": "c51c6bea",
   "metadata": {},
   "source": [
    "Now we'll apply the simple NDVI equation:"
   ]
  },
  {
   "cell_type": "code",
   "execution_count": null,
   "id": "59f26b58",
   "metadata": {},
   "outputs": [],
   "source": [
    "ndvi = (b5-b4)/(b4+b5)"
   ]
  },
  {
   "cell_type": "markdown",
   "id": "10001c0b",
   "metadata": {},
   "source": [
    "Take a look:"
   ]
  },
  {
   "cell_type": "code",
   "execution_count": null,
   "id": "e26e6f47",
   "metadata": {},
   "outputs": [],
   "source": [
    "fig, ax = plt.subplots(1, figsize=(12,12))\n",
    "show(ndvi, transform = img_b4.transform, ax=ax, cmap = 'Greens')"
   ]
  },
  {
   "cell_type": "markdown",
   "id": "ae968356",
   "metadata": {},
   "source": [
    "Save some memory, but we'll keep NDVI:"
   ]
  },
  {
   "cell_type": "code",
   "execution_count": null,
   "id": "297d1706",
   "metadata": {},
   "outputs": [],
   "source": [
    "del img_b4, img_b5, b4, b5"
   ]
  },
  {
   "cell_type": "markdown",
   "id": "0ade458e",
   "metadata": {},
   "source": [
    "### Zonal Stats:  \n",
    "\n",
    "A common operation when you need to know how much of something (or other descriptive stats) fall within a certain a given area (zone).  \n",
    "\n",
    "In this case, we'll find out NDVI summary values each landcover classification in the Steamboat vacinity. \n",
    "\n",
    "We'll bring in a landcover dataset, the [NLCD](https://www.mrlc.gov/data/legends/national-land-cover-database-class-legend-and-description). I've prepped this data so it's the exact same extent and CRS as the landsat data we just used."
   ]
  },
  {
   "cell_type": "code",
   "execution_count": null,
   "id": "8059aaca",
   "metadata": {},
   "outputs": [],
   "source": [
    "nlcd = rio.open('data/NLCD_Steamboat.tif')"
   ]
  },
  {
   "cell_type": "markdown",
   "id": "96f53f48",
   "metadata": {},
   "source": [
    "In case you're curious... "
   ]
  },
  {
   "cell_type": "code",
   "execution_count": null,
   "id": "a5e3d5d2",
   "metadata": {},
   "outputs": [],
   "source": [
    "fig, ax = plt.subplots(1, figsize=(12,12))\n",
    "show(nlcd, transform = nlcd.transform, ax=ax)"
   ]
  },
  {
   "cell_type": "markdown",
   "id": "4856d97b",
   "metadata": {},
   "source": [
    "Read the NLCD data as an array:"
   ]
  },
  {
   "cell_type": "code",
   "execution_count": null,
   "id": "bbb5a61f",
   "metadata": {},
   "outputs": [],
   "source": [
    "nlcdArray = nlcd.read(1)"
   ]
  },
  {
   "cell_type": "markdown",
   "id": "939a237c",
   "metadata": {},
   "source": [
    "We'll need each unique value of the array... easy enough!"
   ]
  },
  {
   "cell_type": "code",
   "execution_count": null,
   "id": "d6708976",
   "metadata": {},
   "outputs": [],
   "source": [
    "print(np.unique(nlcdArray))"
   ]
  },
  {
   "cell_type": "markdown",
   "id": "9f9e9197",
   "metadata": {},
   "source": [
    "We'll use those unique values as \"bins\", and we'll place them in a list:"
   ]
  },
  {
   "cell_type": "code",
   "execution_count": null,
   "id": "09fbe9cb",
   "metadata": {},
   "outputs": [],
   "source": [
    "bins = np.unique(nlcdArray)"
   ]
  },
  {
   "cell_type": "markdown",
   "id": "7bcd306b",
   "metadata": {},
   "source": [
    "Now, we'll create two empty lists that we'll iterate over, one which we'll add counts of each class, and the second where we'll sum counts of each class by bin... "
   ]
  },
  {
   "cell_type": "code",
   "execution_count": null,
   "id": "002a111c",
   "metadata": {},
   "outputs": [],
   "source": [
    "class_count = []\n",
    "ndvi_nlcd = []"
   ]
  },
  {
   "cell_type": "markdown",
   "id": "e6e0d270",
   "metadata": {},
   "source": [
    "Now we'll iterate over the bins, and for the count, we'll sum the occurrence of cells of a particular class, then calculate the average NDVI value within all the cells of a given class:"
   ]
  },
  {
   "cell_type": "code",
   "execution_count": null,
   "id": "cfd43d3f",
   "metadata": {},
   "outputs": [],
   "source": [
    "for b in bins:\n",
    "    count = np.sum(np.where(np.equal(nlcdArray,b),1,0))\n",
    "    class_count.append(count)\n",
    "    ndvi_nlcd.append(float(np.sum(np.where(np.equal(nlcdArray,b),ndvi,0)))/count)"
   ]
  },
  {
   "cell_type": "markdown",
   "id": "c8a4d61e",
   "metadata": {},
   "source": [
    "Now a print statement so we can review the results:"
   ]
  },
  {
   "cell_type": "code",
   "execution_count": null,
   "id": "64694072",
   "metadata": {},
   "outputs": [],
   "source": [
    "for i in range(len(bins)):\n",
    "    print('Class:',bins[i])\n",
    "    print('Total cells in class:', class_count[i])\n",
    "    print('NDVI within class:', ndvi_nlcd[i])\n",
    "    print('*****************************')"
   ]
  },
  {
   "cell_type": "code",
   "execution_count": null,
   "id": "fb319636",
   "metadata": {},
   "outputs": [],
   "source": [
    "del nlcd, ndvi, nlcdArray"
   ]
  },
  {
   "cell_type": "markdown",
   "id": "c83a69d2",
   "metadata": {},
   "source": [
    "### Smoothing (mean) filter:\n",
    "\n",
    "A mean filter is a focal (AKA neighborhood) operation where each cell is replaced with the average of the cell and it's eight neighbors. There are lot's of other focal operations. This can be done relatively easily with Numpy, but even easier with Scipy...  \n",
    "\n",
    "Open up the DEM one more time and read it as an array:"
   ]
  },
  {
   "cell_type": "code",
   "execution_count": null,
   "id": "72833680",
   "metadata": {},
   "outputs": [],
   "source": [
    "dem = rio.open('data/Flatirons_DEM_1m.tif')\n",
    "demArray = dem.read(1)"
   ]
  },
  {
   "cell_type": "markdown",
   "id": "95427984",
   "metadata": {},
   "source": [
    "We'll use the uniform image filter from the Scipy NDimage module.\n",
    "\n",
    "```python\n",
    "demMean = scipy.ndimage.uniform_filter(demArray, size=3)\n",
    "```\n",
    "Size refers to the size of the kernel, or moving window... in this case it is a 3 by 3 cell square, which would include every cell that touches a central cell...  "
   ]
  },
  {
   "cell_type": "code",
   "execution_count": null,
   "id": "a31fda63",
   "metadata": {},
   "outputs": [],
   "source": [
    "demMean = scipy.ndimage.uniform_filter(demArray, size=3)"
   ]
  },
  {
   "cell_type": "code",
   "execution_count": null,
   "id": "57df84d1",
   "metadata": {},
   "outputs": [],
   "source": [
    "print('Original min:', demArray.min())\n",
    "print('Original max:', demArray.max())\n",
    "print('Original mean:', demArray.mean())\n",
    "print('***********************')\n",
    "print('New min:', demMean.min())\n",
    "print('New max:', demMean.max())\n",
    "print('new mean:', demMean.mean())"
   ]
  },
  {
   "cell_type": "markdown",
   "id": "ebd3fa3e",
   "metadata": {},
   "source": [
    "Because none of the profile information changes, we can simply repurpose the original dem's profile metadata:"
   ]
  },
  {
   "cell_type": "code",
   "execution_count": null,
   "id": "20e8b5ab",
   "metadata": {},
   "outputs": [],
   "source": [
    "profile = dem.profile"
   ]
  },
  {
   "cell_type": "code",
   "execution_count": null,
   "id": "7f1f5e9d",
   "metadata": {},
   "outputs": [],
   "source": [
    "with rio.open('demMean.tif', 'w', **profile) as demMean_out:\n",
    "    demMean_out.write(demMean,1)"
   ]
  },
  {
   "cell_type": "markdown",
   "id": "64970a16",
   "metadata": {},
   "source": [
    "### Done! "
   ]
  }
 ],
 "metadata": {
  "kernelspec": {
   "display_name": "Python 3 (ipykernel)",
   "language": "python",
   "name": "python3"
  },
  "language_info": {
   "codemirror_mode": {
    "name": "ipython",
    "version": 3
   },
   "file_extension": ".py",
   "mimetype": "text/x-python",
   "name": "python",
   "nbconvert_exporter": "python",
   "pygments_lexer": "ipython3",
   "version": "3.7.4"
  }
 },
 "nbformat": 4,
 "nbformat_minor": 5
}
