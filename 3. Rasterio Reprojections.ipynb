{
 "cells": [
  {
   "cell_type": "markdown",
   "id": "7019962c",
   "metadata": {},
   "source": [
    "# Rasterio Reprojections  \n",
    "\n",
    "Reprojecting data is, of course, a very common and frequently necessary procedure.  \n",
    "\n",
    "There are some steps one needs to take, which, as usual, relies on using and manipulating descriptive attributes of the source dataset. Are you detecting a theme? It's all about the descriptives...  \n",
    "\n",
    "Imports:"
   ]
  },
  {
   "cell_type": "code",
   "execution_count": null,
   "id": "719eea9c",
   "metadata": {},
   "outputs": [],
   "source": [
    "import rasterio as rio\n",
    "import numpy as np\n",
    "from rasterio.warp import calculate_default_transform, reproject, Resampling\n",
    "import os"
   ]
  },
  {
   "cell_type": "markdown",
   "id": "57522152",
   "metadata": {},
   "source": [
    "Open up the Flatirons_DEM_1m GeoTiff:\n",
    "```python\n",
    "src = rio.open('data/Flatirons_DEM_1m.tif')\n",
    "```"
   ]
  },
  {
   "cell_type": "code",
   "execution_count": null,
   "id": "c1515ae9",
   "metadata": {},
   "outputs": [],
   "source": []
  },
  {
   "cell_type": "markdown",
   "id": "6ce31512",
   "metadata": {},
   "source": [
    "Take a peek at the meta:\n",
    "```python\n",
    "src.meta\n",
    "```"
   ]
  },
  {
   "cell_type": "code",
   "execution_count": null,
   "id": "15a0ea7e",
   "metadata": {},
   "outputs": [],
   "source": []
  },
  {
   "cell_type": "markdown",
   "id": "a995e4fc",
   "metadata": {},
   "source": [
    "Save it's coordinate reference system as a variable:\n",
    "```python\n",
    "src_crs = src.crs\n",
    "```"
   ]
  },
  {
   "cell_type": "code",
   "execution_count": null,
   "id": "98407c94",
   "metadata": {},
   "outputs": [],
   "source": []
  },
  {
   "cell_type": "markdown",
   "id": "0315e5ed",
   "metadata": {},
   "source": [
    "```python\n",
    "print(src_crs)\n",
    "```"
   ]
  },
  {
   "cell_type": "code",
   "execution_count": null,
   "id": "a443c381",
   "metadata": {},
   "outputs": [],
   "source": []
  },
  {
   "cell_type": "markdown",
   "id": "9c0e40d4",
   "metadata": {},
   "source": [
    "Now, let's say we want to reproject it (aka WARP) to the WGS84 system...  Let's start by saving the destination coordinate system as a variable:\n",
    "```python\n",
    "dst_crs = ('EPSG:4326')\n",
    "```"
   ]
  },
  {
   "cell_type": "code",
   "execution_count": null,
   "id": "f7f8d192",
   "metadata": {},
   "outputs": [],
   "source": []
  },
  {
   "cell_type": "markdown",
   "id": "7b91a378",
   "metadata": {},
   "source": [
    "What we need to perform this warp is the affine transform matrix--that is, the math problem--that will take our data and calculate how it should be rendered in WGS84....   \n",
    "\n",
    "For this, we can use [`calculate_default_transform`](https://rasterio.readthedocs.io/en/latest/api/rasterio.warp.html#rasterio.warp.calculate_default_transform)  \n",
    "\n",
    "We need for the params: the source crs, the destination crs, the width, the height, and the bounds of the source image...  \n",
    "\n",
    "Remember:\n",
    "\n",
    "```python\n",
    "src_width = src.width\n",
    "src_height = src.height\n",
    "src_bounds = src.bounds\n",
    "```"
   ]
  },
  {
   "cell_type": "code",
   "execution_count": null,
   "id": "c8e80c02",
   "metadata": {},
   "outputs": [],
   "source": []
  },
  {
   "cell_type": "markdown",
   "id": "2f0e1b29",
   "metadata": {},
   "source": [
    "Now run the calculate default transform function:\n",
    "```python\n",
    "calculate_default_transform(src_crs, dst_crs, src_width, src_height, src_bounds)\n",
    "```"
   ]
  },
  {
   "cell_type": "code",
   "execution_count": null,
   "id": "ee198ba1",
   "metadata": {},
   "outputs": [],
   "source": []
  },
  {
   "cell_type": "markdown",
   "id": "195293f8",
   "metadata": {},
   "source": [
    "Oops! What's going on here?  \n",
    "\n",
    "```\n",
    "print(src_bounds)\n",
    "```"
   ]
  },
  {
   "cell_type": "code",
   "execution_count": null,
   "id": "8da6278a",
   "metadata": {},
   "outputs": [],
   "source": []
  },
  {
   "cell_type": "markdown",
   "id": "795da8e1",
   "metadata": {},
   "source": [
    "We need to unpack these... how to do this?\n",
    "\n",
    "Well... could try indexing... \n",
    "```python\n",
    "src_bounds[0]\n",
    "```"
   ]
  },
  {
   "cell_type": "code",
   "execution_count": null,
   "id": "fcd74e7d",
   "metadata": {},
   "outputs": [],
   "source": []
  },
  {
   "cell_type": "markdown",
   "id": "db7f9881",
   "metadata": {},
   "source": [
    "That gets slightly tedious...  \n",
    "\n",
    "You can use a python \"star expression\" to unpack a variable that is a sequence of values...  Note this is different from a ** expression in that these are not key:value pairs, it's just the \"value\"...  \n",
    "```python\n",
    "print(*src_bounds)\n",
    "```"
   ]
  },
  {
   "cell_type": "code",
   "execution_count": null,
   "id": "fc46df8e",
   "metadata": {},
   "outputs": [],
   "source": []
  },
  {
   "cell_type": "markdown",
   "id": "22d5ddfc",
   "metadata": {},
   "source": [
    "Let's try again... \n",
    "```python\n",
    "calculate_default_transform(src_crs, dst_crs, src_width, src_height, *src_bounds)\n",
    "```"
   ]
  },
  {
   "cell_type": "code",
   "execution_count": null,
   "id": "6f54a694",
   "metadata": {},
   "outputs": [],
   "source": []
  },
  {
   "cell_type": "markdown",
   "id": "cdac4d6a",
   "metadata": {},
   "source": [
    "Sweet! What we have here is a [tuple](https://www.w3schools.com/python/python_tuples.asp) that contains the transformation matrix, the destination width, and destination height. Once again, we'll need to unpack, but our next step won't use them in this order, so we'll need to do it a different way.... \n",
    "\n",
    "`(transform, width, height)`\n",
    "\n",
    "Again... could use indexing... \n",
    "```\n",
    "transform = calculate_default_transform(src_crs, dst_crs, src_width, src_height, *src_bounds)[0]\n",
    "```\n",
    "... etc...  "
   ]
  },
  {
   "cell_type": "code",
   "execution_count": null,
   "id": "0fe05e93",
   "metadata": {},
   "outputs": [],
   "source": []
  },
  {
   "cell_type": "markdown",
   "id": "dcfa66a5",
   "metadata": {},
   "source": [
    "Or, just assign multiple variables using commas:  \n",
    "\n",
    "```\n",
    "transform, dst_width, dst_height = calculate_default_transform(src_crs, dst_crs, src_width, src_height, *src_bounds)\n",
    "```"
   ]
  },
  {
   "cell_type": "code",
   "execution_count": null,
   "id": "3c080da0",
   "metadata": {},
   "outputs": [],
   "source": []
  },
  {
   "cell_type": "markdown",
   "id": "1aab8a6c",
   "metadata": {},
   "source": [
    "Print them to see if it worked...  \n",
    "\n",
    "```\n",
    "print(transform)\n",
    "print(dst_width)\n",
    "print(dst_height)\n",
    "```"
   ]
  },
  {
   "cell_type": "code",
   "execution_count": null,
   "id": "90f0f805",
   "metadata": {},
   "outputs": [],
   "source": []
  },
  {
   "cell_type": "markdown",
   "id": "08c4ebd4",
   "metadata": {},
   "source": [
    "Okay, same procedures as before when opening a new blank destination dataset...  \n",
    "\n",
    "Grab the profile:  \n",
    "```python\n",
    "profile = src.profile.copy()\n",
    "```"
   ]
  },
  {
   "cell_type": "code",
   "execution_count": null,
   "id": "77a74f8c",
   "metadata": {},
   "outputs": [],
   "source": []
  },
  {
   "cell_type": "markdown",
   "id": "1371e7c5",
   "metadata": {},
   "source": [
    "Now update the profile with the parameters we need:\n",
    "```python\n",
    "profile.update(height = dst_height, \n",
    "               width = dst_width, \n",
    "               crs = dst_crs, \n",
    "               transform = transform)\n",
    "```"
   ]
  },
  {
   "cell_type": "code",
   "execution_count": null,
   "id": "4c74486b",
   "metadata": {},
   "outputs": [],
   "source": []
  },
  {
   "cell_type": "markdown",
   "id": "3b4f4dad",
   "metadata": {},
   "source": [
    "Now, we can open a new blank dataset with the meta information we want:  \n",
    "\n",
    "```python\n",
    "demWGS84 = rio.open('demWGS84.tif', 'w', **profile)\n",
    "```"
   ]
  },
  {
   "cell_type": "code",
   "execution_count": null,
   "id": "74ff5930",
   "metadata": {},
   "outputs": [],
   "source": []
  },
  {
   "cell_type": "markdown",
   "id": "d43ad65d",
   "metadata": {},
   "source": [
    "Now, we'll run the `reproject()` function. Let's take a look at the documentation: (https://rasterio.readthedocs.io/en/latest/topics/reproject.html)\n",
    "```python\n",
    "reproject(source = rio.band(src,1), \n",
    "          destination = rio.band(demWGS84,1), \n",
    "          src_transform = src.transform, \n",
    "          src_crs = src_crs, \n",
    "          dst_transform = transform, \n",
    "          dst_crs = dst_crs, \n",
    "          resampling=Resampling.nearest)\n",
    "```"
   ]
  },
  {
   "cell_type": "code",
   "execution_count": null,
   "id": "57794238",
   "metadata": {},
   "outputs": [],
   "source": []
  },
  {
   "cell_type": "markdown",
   "id": "cae8382c",
   "metadata": {},
   "source": [
    "```python\n",
    "demWGS84.close()\n",
    "src.close()\n",
    "```"
   ]
  },
  {
   "cell_type": "code",
   "execution_count": null,
   "id": "2924905d",
   "metadata": {},
   "outputs": [],
   "source": []
  },
  {
   "cell_type": "markdown",
   "id": "6d122a67",
   "metadata": {},
   "source": [
    "Now that we have a handle on how this works.... let's try to streamline it...  \n",
    "\n"
   ]
  },
  {
   "cell_type": "markdown",
   "id": "3546331e",
   "metadata": {},
   "source": [
    "Cool... okay, now slightly more elegant:"
   ]
  },
  {
   "cell_type": "code",
   "execution_count": null,
   "id": "8e406392",
   "metadata": {},
   "outputs": [],
   "source": [
    "with rio.open('data/Flatirons_DEM_1m.tif') as src:\n",
    "    transform, width, height = calculate_default_transform(\n",
    "        src.crs, dst_crs, src.width, src.height, *src.bounds)\n",
    "    kwargs = src.meta.copy()\n",
    "    kwargs.update(crs = dst_crs, transform = transform, width = width, height = height)\n",
    "\n",
    "    with rio.open('demWGS84.tif', 'w', **kwargs) as dst:\n",
    "        reproject(source=rio.band(src, 1),\n",
    "                  destination=rio.band(dst, 1),\n",
    "                  src_transform=src.transform,\n",
    "                  src_crs=src.crs,dst_transform=transform,\n",
    "                  dst_crs=dst_crs,\n",
    "                  resampling=Resampling.nearest)"
   ]
  },
  {
   "cell_type": "markdown",
   "id": "7660a9a1",
   "metadata": {},
   "source": [
    "Multiple Bands???"
   ]
  },
  {
   "cell_type": "code",
   "execution_count": null,
   "id": "902127cf",
   "metadata": {},
   "outputs": [],
   "source": [
    "with rio.open('NAIP_swQuad.tif') as src:\n",
    "    transform, width, height = calculate_default_transform(\n",
    "        src.crs, dst_crs, src.width, src.height, *src.bounds)\n",
    "    kwargs = src.meta.copy()\n",
    "    kwargs.update(crs = dst_crs,\n",
    "                  transform = transform,\n",
    "                  width = width,\n",
    "                  height = height,\n",
    "                  photometric = 'rgb', #<-----important for this data!\n",
    "                  alpha = 'no') #<-----important for this data!)\n",
    "\n",
    "    with rio.open('NAIP_swQUAD_WGS84.tif', 'w', **kwargs) as dst:\n",
    "        for i in range(1, src.count + 1): #<----- Note that we're iterating over the bands\n",
    "            reproject(\n",
    "                source=rio.band(src, i),\n",
    "                destination=rio.band(dst, i),\n",
    "                src_transform=src.transform,\n",
    "                src_crs=src.crs,\n",
    "                dst_transform=transform,\n",
    "                dst_crs=dst_crs,\n",
    "                resampling=Resampling.nearest)"
   ]
  },
  {
   "cell_type": "markdown",
   "id": "f56915b8",
   "metadata": {},
   "source": [
    "#### But watch out for color profile stuff...  \n",
    "\n",
    "Rasterio uses GDAL.... basically, when you do certain operations, Rasterio reaches into GDAL to do it. For example, the GTiff driver is GDAL. If you need to mess with the settings, you often have to look at the GDAL documentation to figure out how to do make it work in Rasterio. Which is how I figured out the colorinterp settings... "
   ]
  },
  {
   "cell_type": "code",
   "execution_count": null,
   "id": "303bf949",
   "metadata": {},
   "outputs": [],
   "source": [
    "with rio.open('NAIP_swQuad.tif') as naip:\n",
    "    print(naip.colorinterp)"
   ]
  },
  {
   "cell_type": "markdown",
   "id": "48678c0e",
   "metadata": {},
   "source": [
    "Took me forever to figure that out... "
   ]
  }
 ],
 "metadata": {
  "kernelspec": {
   "display_name": "Python 3 (ipykernel)",
   "language": "python",
   "name": "python3"
  },
  "language_info": {
   "codemirror_mode": {
    "name": "ipython",
    "version": 3
   },
   "file_extension": ".py",
   "mimetype": "text/x-python",
   "name": "python",
   "nbconvert_exporter": "python",
   "pygments_lexer": "ipython3",
   "version": "3.7.4"
  }
 },
 "nbformat": 4,
 "nbformat_minor": 5
}
