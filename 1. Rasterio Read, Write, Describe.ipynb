{
 "cells": [
  {
   "cell_type": "code",
   "execution_count": 3,
   "id": "3634ce02",
   "metadata": {},
   "outputs": [],
   "source": [
    "import numpy as np\n",
    "import rasterio as rio\n",
    "from rasterio.plot import show\n",
    "import os"
   ]
  },
  {
   "cell_type": "markdown",
   "id": "58ff0e7c",
   "metadata": {},
   "source": [
    "First, we'll read in a raster as a Rasterio dataset object:  \n",
    "\n",
    "```python\n",
    "src = rio.open('data/Flatirons_DEM_1m.tif')\n",
    "```"
   ]
  },
  {
   "cell_type": "code",
   "execution_count": null,
   "id": "91640ff6",
   "metadata": {},
   "outputs": [],
   "source": []
  },
  {
   "cell_type": "markdown",
   "id": "8ae6a835",
   "metadata": {},
   "source": [
    "Just so you know what you're looking at... \n",
    "\n",
    "```python\n",
    "show(src)\n",
    "```"
   ]
  },
  {
   "cell_type": "code",
   "execution_count": null,
   "id": "e2c03a1a",
   "metadata": {},
   "outputs": [],
   "source": []
  },
  {
   "cell_type": "markdown",
   "id": "d0ba3ada",
   "metadata": {},
   "source": [
    "More visualization later...  \n",
    "\n",
    "#### Let's go over some descriptive attributes:  \n",
    "\n",
    "```python\n",
    "src.name\n",
    "```"
   ]
  },
  {
   "cell_type": "code",
   "execution_count": null,
   "id": "ed7ed700",
   "metadata": {},
   "outputs": [],
   "source": []
  },
  {
   "cell_type": "markdown",
   "id": "ae02f31b",
   "metadata": {},
   "source": [
    "```python\n",
    "src.width\n",
    "```"
   ]
  },
  {
   "cell_type": "code",
   "execution_count": null,
   "id": "9cec47ac",
   "metadata": {},
   "outputs": [],
   "source": []
  },
  {
   "cell_type": "markdown",
   "id": "d5a6264e",
   "metadata": {},
   "source": [
    "```python\n",
    "src.height\n",
    "```"
   ]
  },
  {
   "cell_type": "code",
   "execution_count": null,
   "id": "f04c602c",
   "metadata": {},
   "outputs": [],
   "source": []
  },
  {
   "cell_type": "markdown",
   "id": "768d05e4",
   "metadata": {},
   "source": [
    "Check the coordinate reference system (CRS)\n",
    "```python\n",
    "src.crs\n",
    "```"
   ]
  },
  {
   "cell_type": "code",
   "execution_count": null,
   "id": "e661eab1",
   "metadata": {},
   "outputs": [],
   "source": []
  },
  {
   "cell_type": "markdown",
   "id": "35f97150",
   "metadata": {},
   "source": [
    "How many bands are in this image?  \n",
    "```python\n",
    "src.count\n",
    "```"
   ]
  },
  {
   "cell_type": "code",
   "execution_count": null,
   "id": "18c234a4",
   "metadata": {},
   "outputs": [],
   "source": []
  },
  {
   "cell_type": "markdown",
   "id": "1729b2bc",
   "metadata": {},
   "source": [
    "The unit is part of the coordinate system:\n",
    "```python\n",
    "src.crs.linear_units\n",
    "```"
   ]
  },
  {
   "cell_type": "code",
   "execution_count": null,
   "id": "4c2dcf83",
   "metadata": {},
   "outputs": [],
   "source": []
  },
  {
   "cell_type": "markdown",
   "id": "8e36e112",
   "metadata": {},
   "source": [
    "Now, let's get the extent AKA bounds:\n",
    "```python\n",
    "src.bounds\n",
    "```"
   ]
  },
  {
   "cell_type": "code",
   "execution_count": null,
   "id": "900173db",
   "metadata": {},
   "outputs": [],
   "source": []
  },
  {
   "cell_type": "markdown",
   "id": "8f37286e",
   "metadata": {},
   "source": [
    "Affine transformation:\n",
    "```python\n",
    "src.transform\n",
    "```"
   ]
  },
  {
   "cell_type": "code",
   "execution_count": null,
   "id": "7fb29c8f",
   "metadata": {},
   "outputs": [],
   "source": []
  },
  {
   "cell_type": "markdown",
   "id": "1283b577",
   "metadata": {},
   "source": [
    "Transform is super important, but what the heck is it?  \n",
    "\n",
    "(cell width, x origin, x origin coordinate, y origin, cell height, y origin coordinate)\n",
    "\n",
    "**From Rasterio's docs:** \n",
    "A dataset’s `DatasetReader.transform` is an [affine transformation matrix](https://en.wikipedia.org/wiki/Affine_transformation) that maps pixel locations in (row, col) coordinates to (x, y) spatial positions. The product of this matrix and (0, 0), the row and column coordinates of the upper left corner of the dataset, is the spatial position of the upper left corner.  \n",
    "  \n",
    "Upper left corner position is (0,0), so...  \n",
    "```python\n",
    "src.transform * (0,0)\n",
    "```"
   ]
  },
  {
   "cell_type": "code",
   "execution_count": null,
   "id": "4d27f754",
   "metadata": {},
   "outputs": [],
   "source": []
  },
  {
   "cell_type": "markdown",
   "id": "3a105f83",
   "metadata": {},
   "source": [
    "There's the coordinates of our top left corner...  \n",
    "\n",
    "For funsies, we could take a stab at the center point, or at least pretty darn close:\n",
    "```python\n",
    "centerX = src.width/2\n",
    "centerY = src.height/2\n",
    "```"
   ]
  },
  {
   "cell_type": "code",
   "execution_count": null,
   "id": "bc14e9c8",
   "metadata": {},
   "outputs": [],
   "source": []
  },
  {
   "cell_type": "code",
   "execution_count": null,
   "id": "9ecac999",
   "metadata": {},
   "outputs": [],
   "source": []
  },
  {
   "cell_type": "markdown",
   "id": "a7158d14",
   "metadata": {},
   "source": [
    "```python\n",
    "src.transform * (centerX,centerY)\n",
    "```"
   ]
  },
  {
   "cell_type": "code",
   "execution_count": null,
   "id": "d0fd7e7f",
   "metadata": {},
   "outputs": [],
   "source": []
  },
  {
   "cell_type": "markdown",
   "id": "b34910b1",
   "metadata": {},
   "source": [
    "So, that's how you apply a transformation--it does the math over the pixels to \"georeference\" them to a coordinate system, or change it from one crs to another... which we'll work on in the next notebook.  \n",
    "\n",
    "You can access parts of the transform as well, such as cell dimensions:\n",
    "```python\n",
    "cellWidth = src.transform[0]\n",
    "cellHeight = src.transform[4]\n",
    "```"
   ]
  },
  {
   "cell_type": "code",
   "execution_count": null,
   "id": "4dc55736",
   "metadata": {},
   "outputs": [],
   "source": []
  },
  {
   "cell_type": "markdown",
   "id": "0dc7d614",
   "metadata": {},
   "source": [
    "```python\n",
    "cellWidth, cellHeight\n",
    "```"
   ]
  },
  {
   "cell_type": "code",
   "execution_count": null,
   "id": "0c3f093d",
   "metadata": {},
   "outputs": [],
   "source": []
  },
  {
   "cell_type": "markdown",
   "id": "8e9d4522",
   "metadata": {},
   "source": [
    "Okay, and finally two related and important descriptive tools:\n",
    "```python\n",
    "src.meta\n",
    "```"
   ]
  },
  {
   "cell_type": "code",
   "execution_count": null,
   "id": "fdf99d75",
   "metadata": {},
   "outputs": [],
   "source": []
  },
  {
   "cell_type": "markdown",
   "id": "b20d3b35",
   "metadata": {},
   "source": [
    "And similar...  \n",
    "\n",
    "```python\n",
    "src.profile\n",
    "```"
   ]
  },
  {
   "cell_type": "code",
   "execution_count": null,
   "id": "349db7fc",
   "metadata": {},
   "outputs": [],
   "source": []
  },
  {
   "cell_type": "markdown",
   "id": "3762fb79",
   "metadata": {},
   "source": [
    "Note that you can access these:  \n",
    "```python\n",
    "src.meta['dtype']\n",
    "```"
   ]
  },
  {
   "cell_type": "code",
   "execution_count": null,
   "id": "53d1aff5",
   "metadata": {},
   "outputs": [],
   "source": []
  },
  {
   "cell_type": "markdown",
   "id": "899951ba",
   "metadata": {},
   "source": [
    "Now let's do a little bit of work on the raster layer and save it's output to a new file.  \n",
    "\n",
    "Frequently, Numpy is used to work with arrays--and a raster layer is just a big ol' array...  \n",
    "\n",
    "To read a Rasterio dataset object as a Numpy array use src.read(). The parameter is the band you want to read:\n",
    "\n",
    "```python\n",
    "array = src.read(1)\n",
    "```"
   ]
  },
  {
   "cell_type": "code",
   "execution_count": null,
   "id": "d244d315",
   "metadata": {},
   "outputs": [],
   "source": []
  },
  {
   "cell_type": "markdown",
   "id": "3ac16a15",
   "metadata": {},
   "source": [
    "And here it is... \n",
    "\n",
    "```python\n",
    "array\n",
    "```"
   ]
  },
  {
   "cell_type": "code",
   "execution_count": null,
   "id": "07601f85",
   "metadata": {},
   "outputs": [],
   "source": []
  },
  {
   "cell_type": "markdown",
   "id": "f634cef7",
   "metadata": {},
   "source": [
    "Now, let's do something super basic for now: multiply every value in the array times 2...   \n",
    "```python\n",
    "array2 = array * 2\n",
    "```"
   ]
  },
  {
   "cell_type": "code",
   "execution_count": null,
   "id": "b707ad4d",
   "metadata": {},
   "outputs": [],
   "source": []
  },
  {
   "cell_type": "markdown",
   "id": "ad780efb",
   "metadata": {},
   "source": [
    "Did it work?\n",
    "\n",
    "```python\n",
    "print(array.max())\n",
    "print(array2.max())\n",
    "```"
   ]
  },
  {
   "cell_type": "code",
   "execution_count": null,
   "id": "624c7a21",
   "metadata": {},
   "outputs": [],
   "source": []
  },
  {
   "cell_type": "markdown",
   "id": "ebc527eb",
   "metadata": {},
   "source": [
    "Complex analysis, right?  \n",
    "\n",
    "Let's grab the height and width of our array2 and save them for later... note that these should be exactly the same as our source DEM, so in this case, you could also use src.width and src.height...  \n",
    "\n",
    "But we'll use the Numpy method:\n",
    "```python\n",
    "height = np.size(array2,0)\n",
    "width = np.size(array2,1)\n",
    "```"
   ]
  },
  {
   "cell_type": "code",
   "execution_count": null,
   "id": "ebb83eb2",
   "metadata": {},
   "outputs": [],
   "source": []
  },
  {
   "cell_type": "markdown",
   "id": "3018404c",
   "metadata": {},
   "source": [
    "Okay, let's take our new data and write it to a new GeoTiff file.  \n",
    "\n",
    "The steps are: \n",
    "1. Open a new array in write mode--with all the correct parameters... \n",
    "2. Write the array into the Rasterio dataset object\n",
    "3. Close it\n",
    "\n",
    "So, begin by creating and opening a new GeoTiff that will store our data...  \n",
    "\n",
    "First let's take a look at the documentation: https://rasterio.readthedocs.io/en/latest/quickstart.html#opening-a-dataset-in-writing-mode\n",
    "\n",
    "The parameters we need are:\n",
    "- driver: the name of the desired format driver\n",
    "- width: the number of columns of the dataset\n",
    "- height: the number of rows of the dataset\n",
    "- count: a count of the dataset bands\n",
    "- dtype: the data type of the dataset\n",
    "- crs: a coordinate reference system identifier or description\n",
    "- transform: an affine transformation matrix  \n",
    "\n",
    "Note that several of these are optional, but you probably want to use at least these. And there are more optional params as well...  \n",
    "\n",
    "For starters let's do this:\n",
    "\n",
    "```python\n",
    "new = rio.open('new_dem.tif', 'w', \n",
    "               driver='GTiff', \n",
    "               height = src.height, \n",
    "               width = src.width, \n",
    "               count = 1, \n",
    "               dtype = src.meta['dtype'], \n",
    "               crs = src.crs, \n",
    "               transform = src.transform)\n",
    "```"
   ]
  },
  {
   "cell_type": "code",
   "execution_count": null,
   "id": "e4ed197d",
   "metadata": {},
   "outputs": [],
   "source": []
  },
  {
   "cell_type": "markdown",
   "id": "0fc091c6",
   "metadata": {},
   "source": [
    "Now write the array to the open data set:\n",
    "```python\n",
    "new.write(array2,1)\n",
    "```"
   ]
  },
  {
   "cell_type": "code",
   "execution_count": null,
   "id": "791714e3",
   "metadata": {},
   "outputs": [],
   "source": []
  },
  {
   "cell_type": "markdown",
   "id": "0009883e",
   "metadata": {},
   "source": [
    "Close it when you're done:  \n",
    "```\n",
    "new.close()\n",
    "```"
   ]
  },
  {
   "cell_type": "code",
   "execution_count": null,
   "id": "f3f0c7b8",
   "metadata": {},
   "outputs": [],
   "source": []
  },
  {
   "cell_type": "markdown",
   "id": "8b37221f",
   "metadata": {},
   "source": [
    "#### That's it!   \n",
    "The basic gist is that you need the descriptive info (meta, profile, crs, transform, width, height, dtype, etc) to write a new dataset.  \n",
    "\n",
    "#### However!  \n",
    "There is a slightly more streamlined approach where you use the meta/profile of the source image and repurpose it (and modify if needed) and use it in the destination image....  \n",
    "\n",
    "First, note that the `.meta` and `.profile` information has all the same parameters that you need to open a brand new dataset in write mode:  \n",
    "\n",
    "```python\n",
    "src.meta\n",
    "```"
   ]
  },
  {
   "cell_type": "code",
   "execution_count": null,
   "id": "6653059d",
   "metadata": {},
   "outputs": [],
   "source": []
  },
  {
   "cell_type": "markdown",
   "id": "79916d5c",
   "metadata": {},
   "source": [
    "Same stuff!  \n",
    "\n",
    "Okay, make a copy of it to a new variable, we'll call it kwargs, which is short for key word arguments:\n",
    "```python\n",
    "kwargs = src.meta.copy()\n",
    "```"
   ]
  },
  {
   "cell_type": "code",
   "execution_count": null,
   "id": "c24d3b85",
   "metadata": {},
   "outputs": [],
   "source": []
  },
  {
   "cell_type": "markdown",
   "id": "44d53cba",
   "metadata": {},
   "source": [
    "Okay, now we have all the parameters necessary saved in a dict, which is of course, key:value pairs....  \n",
    "\n",
    "In this case, none of them need updating because all we did was double the values in the array, we didn't modify it's shape at all so... \n",
    "\n",
    "Just open a new Rasterio data oject in write mode and apply the kwargs like this:\n",
    "```python\n",
    "new = rio.open('new_dem.tif', 'w', **kwargs)\n",
    "```"
   ]
  },
  {
   "cell_type": "code",
   "execution_count": null,
   "id": "bcdcef9c",
   "metadata": {},
   "outputs": [],
   "source": []
  },
  {
   "cell_type": "markdown",
   "id": "8e94d41f",
   "metadata": {},
   "source": [
    "That's called a **double star expression**--it is used to unpack keyword arguments as parameters of a function.  \n",
    "\n",
    "And now, same as before, write and close:\n",
    "```\n",
    "new.write(array2,1)\n",
    "new.close()\n",
    "```"
   ]
  },
  {
   "cell_type": "code",
   "execution_count": 69,
   "id": "9920a02a",
   "metadata": {},
   "outputs": [],
   "source": []
  },
  {
   "cell_type": "markdown",
   "id": "fe5dd24c",
   "metadata": {},
   "source": [
    "### DONE!"
   ]
  }
 ],
 "metadata": {
  "kernelspec": {
   "display_name": "Python 3 (ipykernel)",
   "language": "python",
   "name": "python3"
  },
  "language_info": {
   "codemirror_mode": {
    "name": "ipython",
    "version": 3
   },
   "file_extension": ".py",
   "mimetype": "text/x-python",
   "name": "python",
   "nbconvert_exporter": "python",
   "pygments_lexer": "ipython3",
   "version": "3.7.4"
  }
 },
 "nbformat": 4,
 "nbformat_minor": 5
}
